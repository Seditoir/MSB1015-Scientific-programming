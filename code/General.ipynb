{
 "cells": [
  {
   "cell_type": "markdown",
   "metadata": {},
   "source": [
    "# MSB1015 Scientific programming\n",
    "## Heart failure predicition model\n",
    "\n",
    "\n",
    "During this project the goal is predicting Heart failure in the kaggle challenge Heart Failure Prediction. The database contains 12 Clinical features and 1 target. The features consitute several different data types form interger numbers, precentages, and binarized data.\n",
    "\n",
    "\n",
    "### Pre-Processing\n",
    "The first step was loading in the data and a preliminary exploration of the data."
   ]
  },
  {
   "cell_type": "code",
   "execution_count": 19,
   "metadata": {},
   "outputs": [
    {
     "name": "stdout",
     "output_type": "stream",
     "text": [
      "age                         float64\n",
      "anaemia                       int64\n",
      "creatinine_phosphokinase    float64\n",
      "diabetes                      int64\n",
      "ejection_fraction           float64\n",
      "high_blood_pressure           int64\n",
      "platelets                   float64\n",
      "serum_creatinine            float64\n",
      "serum_sodium                float64\n",
      "sex                           int64\n",
      "smoking                       int64\n",
      "time                          int64\n",
      "DEATH_EVENT                   int64\n",
      "dtype: object\n",
      "['age', 'anaemia', 'creatinine_phosphokinase', 'diabetes', 'ejection_fraction', 'high_blood_pressure', 'platelets', 'serum_creatinine', 'serum_sodium', 'sex', 'smoking', 'time', 'DEATH_EVENT']\n",
      "    age  anaemia  creatinine_phosphokinase  diabetes  ejection_fraction  \\\n",
      "0  75.0        0                     582.0         0               20.0   \n",
      "1  55.0        0                    7861.0         0               38.0   \n",
      "2  65.0        0                     146.0         0               20.0   \n",
      "3  50.0        1                     111.0         0               20.0   \n",
      "4  65.0        1                     160.0         1               20.0   \n",
      "\n",
      "   high_blood_pressure  platelets  serum_creatinine  serum_sodium  sex  \\\n",
      "0                    1  265000.00               1.9         130.0    1   \n",
      "1                    0  263358.03               1.1         136.0    1   \n",
      "2                    0  162000.00               1.3         129.0    1   \n",
      "3                    0  210000.00               1.9         137.0    1   \n",
      "4                    0  327000.00               2.7         116.0    0   \n",
      "\n",
      "   smoking  time  DEATH_EVENT  \n",
      "0        0     4            1  \n",
      "1        0     6            1  \n",
      "2        1     7            1  \n",
      "3        0     7            1  \n",
      "4        0     8            1  \n"
     ]
    }
   ],
   "source": [
    "# Importing neccesary packages\n",
    "\n",
    "import pandas as pd\n",
    "import numpy as np\n",
    "import matplotlib.pyplot as plt\n",
    "import seaborn as sns\n",
    "\n",
    "# Loading in the heart failure data\n",
    "\n",
    "df = pd.read_excel (r'Tom_data.xlsx')\n",
    "\n",
    "# \n",
    "print(df.dtypes)\n",
    "print(list(df.columns))\n",
    "print(df.head())"
   ]
  },
  {
   "cell_type": "markdown",
   "metadata": {},
   "source": [
    "The data consist of of 13 columns; Age, Anaemia, Creatine_phosphokinase, Diabetes, Ejection_fraction, High_blood_pressure, Platelets, Serum_creatine, Serum_sodium, Sex, smoking, Time, and Death event."
   ]
  },
  {
   "cell_type": "code",
   "execution_count": 16,
   "metadata": {},
   "outputs": [],
   "source": [
    "# changing columns (variables) to a logical data type\n",
    "#   ejection fraction has a negative value and a impossible high value\n",
    "#   serum_sodium has a impossible high value \n",
    "\n",
    "df[\"age\"] = df[\"age\"].apply(np.int64)\n",
    "df = df.drop([149], axis=0)"
   ]
  },
  {
   "cell_type": "markdown",
   "metadata": {},
   "source": [
    "lorem ispem"
   ]
  },
  {
   "cell_type": "code",
   "execution_count": null,
   "metadata": {},
   "outputs": [],
   "source": []
  }
 ],
 "metadata": {
  "kernelspec": {
   "display_name": "Python 3",
   "language": "python",
   "name": "python3"
  },
  "language_info": {
   "codemirror_mode": {
    "name": "ipython",
    "version": 3
   },
   "file_extension": ".py",
   "mimetype": "text/x-python",
   "name": "python",
   "nbconvert_exporter": "python",
   "pygments_lexer": "ipython3",
   "version": "3.7.4"
  }
 },
 "nbformat": 4,
 "nbformat_minor": 4
}
